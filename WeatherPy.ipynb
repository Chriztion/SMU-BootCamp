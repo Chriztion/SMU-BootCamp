{
 "cells": [
  {
   "cell_type": "code",
   "execution_count": 1,
   "metadata": {},
   "outputs": [],
   "source": [
    "#  Dependencies \n",
    "import matplotlib.pyplot as plt\n",
    "import pandas as pd\n",
    "import numpy as np\n",
    "import requests\n",
    "import time\n",
    "from scipy.stats import linregress\n",
    "from pprint import pprint\n",
    "\n",
    "# API Key\n",
    "from api_keys import weather_api_key\n",
    "\n",
    "# Incorporated citipy to determine city based on latitude and longitude\n",
    "from citipy import citipy\n",
    "\n",
    "# Load cities.csv\n",
    "output_data_file = \"output_data/cities.csv\"\n",
    "\n",
    "# Range of latitudes and longitudes\n",
    "lat_range = (-75, 100)\n",
    "lng_range = (-180, 180)"
   ]
  },
  {
   "cell_type": "code",
   "execution_count": 2,
   "metadata": {},
   "outputs": [
    {
     "data": {
      "text/plain": [
       "603"
      ]
     },
     "execution_count": 2,
     "metadata": {},
     "output_type": "execute_result"
    }
   ],
   "source": [
    "# Make a list that stores latitudes and longitudes \n",
    "lat_lngs = []\n",
    "cities = []\n",
    "\n",
    "# Random set of lat lng combos\n",
    "lats = np.random.uniform(lat_range[0], lat_range[1], size=1500)\n",
    "lngs = np.random.uniform(lng_range[0], lng_range[1], size=1500)\n",
    "lat_lngs = zip(lats, lngs)\n",
    "\n",
    "# Identify nearest city per lat lng \n",
    "for lat_lng in lat_lngs:\n",
    "    city = citipy.nearest_city(lat_lng[0], lat_lng[1]).city_name\n",
    "    \n",
    "    \n",
    "    if city not in cities:\n",
    "        cities.append(city)\n",
    "\n",
    "# Make sure I have at least 500 cities\n",
    "len(cities)"
   ]
  },
  {
   "cell_type": "code",
   "execution_count": 3,
   "metadata": {},
   "outputs": [
    {
     "data": {
      "text/plain": [
       "'rikitea'"
      ]
     },
     "execution_count": 3,
     "metadata": {},
     "output_type": "execute_result"
    }
   ],
   "source": [
    "city_7 = cities[8]\n",
    "city_7"
   ]
  },
  {
   "cell_type": "code",
   "execution_count": 4,
   "metadata": {},
   "outputs": [
    {
     "data": {
      "text/plain": [
       "'http://api.openweathermap.org/data/2.5/weather?q=rikitea&appid=b9243e2d7b71044b8840d4590278accb&units=imperial'"
      ]
     },
     "execution_count": 4,
     "metadata": {},
     "output_type": "execute_result"
    }
   ],
   "source": [
    "# Build query URL\n",
    "units = \"imperial\"\n",
    "url = f\"http://api.openweathermap.org/data/2.5/weather?q={city_7}&appid={weather_api_key}&units={units}\"\n",
    "\n",
    "url"
   ]
  },
  {
   "cell_type": "code",
   "execution_count": 5,
   "metadata": {},
   "outputs": [
    {
     "name": "stdout",
     "output_type": "stream",
     "text": [
      "{'base': 'stations',\n",
      " 'clouds': {'all': 87},\n",
      " 'cod': 200,\n",
      " 'coord': {'lat': -23.12, 'lon': -134.97},\n",
      " 'dt': 1588654220,\n",
      " 'id': 4030556,\n",
      " 'main': {'feels_like': 68.54,\n",
      "          'grnd_level': 1015,\n",
      "          'humidity': 71,\n",
      "          'pressure': 1017,\n",
      "          'sea_level': 1017,\n",
      "          'temp': 73.17,\n",
      "          'temp_max': 73.17,\n",
      "          'temp_min': 73.17},\n",
      " 'name': 'Rikitea',\n",
      " 'sys': {'country': 'PF', 'sunrise': 1588605677, 'sunset': 1588645909},\n",
      " 'timezone': -32400,\n",
      " 'weather': [{'description': 'overcast clouds',\n",
      "              'icon': '04n',\n",
      "              'id': 804,\n",
      "              'main': 'Clouds'}],\n",
      " 'wind': {'deg': 150, 'speed': 16.24}}\n"
     ]
    }
   ],
   "source": [
    "response = requests.get(url).json()\n",
    "pprint(response)"
   ]
  },
  {
   "cell_type": "code",
   "execution_count": 6,
   "metadata": {},
   "outputs": [],
   "source": [
    "#Make lists to append to *Might not need this \n",
    "lats = []\n",
    "longs = []\n",
    "temps = []\n",
    "humids = []\n",
    "pressures = []\n",
    "winds = []\n",
    "clouds = []\n",
    "\n",
    "citiesFound = []\n",
    "counter = 0"
   ]
  },
  {
   "cell_type": "code",
   "execution_count": null,
   "metadata": {},
   "outputs": [
    {
     "name": "stdout",
     "output_type": "stream",
     "text": [
      "Printing city #1 out of 603 -- portland\n",
      "Printing city #2 out of 603 -- punta arenas\n",
      "Printing city #3 out of 603 -- avarua\n",
      "Printing city #4 out of 603 -- cape town\n",
      "Printing city #5 out of 603 -- hilo\n",
      "Printing city #6 out of 603 -- upernavik\n",
      "Printing city #7 out of 603 -- aracati\n",
      "Printing city #8 out of 603 -- saint-philippe\n",
      "Printing city #9 out of 603 -- rikitea\n",
      "Printing city #10 out of 603 -- broome\n",
      "Printing city #11 out of 603 -- madras\n",
      "Printing city #12 out of 603 -- atuona\n",
      "Printing city #13 out of 603 -- ugoofaaru\n",
      "Printing city #14 out of 603 -- sitka\n",
      "Printing city #15 out of 603 -- fare\n",
      "Printing city #16 out of 603 -- coquimbo\n",
      "Printing city #17 out of 603 -- cherskiy\n",
      "Printing city #18 out of 603 -- saldanha\n",
      "Printing city #19 out of 603 -- dikson\n",
      "Printing city #20 out of 603 -- lebu\n",
      "Printing city #21 out of 603 -- codrington\n",
      "Printing city #22 out of 603 -- san jose\n",
      "Printing city #23 out of 603 -- busselton\n",
      "Printing city #24 out of 603 -- lorengau\n",
      "Printing city #25 out of 603 -- grindavik\n",
      "City #26 out of 603 missing 'coord'... skipping barentsburg.\n",
      "Printing city #27 out of 603 -- provideniya\n",
      "City #28 out of 603 missing 'coord'... skipping taolanaro.\n",
      "Printing city #29 out of 603 -- puerto ayora\n",
      "Printing city #30 out of 603 -- lima\n",
      "Printing city #31 out of 603 -- sao jose da coroa grande\n",
      "City #32 out of 603 missing 'coord'... skipping sorvag.\n",
      "Printing city #33 out of 603 -- hithadhoo\n",
      "City #34 out of 603 missing 'coord'... skipping illoqqortoormiut.\n",
      "Printing city #35 out of 603 -- yarke pole\n",
      "Printing city #36 out of 603 -- evensk\n",
      "Printing city #37 out of 603 -- namibe\n",
      "City #38 out of 603 missing 'coord'... skipping arkhangelos.\n",
      "Printing city #39 out of 603 -- gwadar\n",
      "Printing city #40 out of 603 -- bara\n",
      "Printing city #41 out of 603 -- thompson\n",
      "Printing city #42 out of 603 -- yar-sale\n",
      "Printing city #43 out of 603 -- waitati\n",
      "Printing city #44 out of 603 -- chokurdakh\n",
      "Printing city #45 out of 603 -- havre-saint-pierre\n",
      "City #46 out of 603 missing 'coord'... skipping palabuhanratu.\n",
      "Printing city #47 out of 603 -- naze\n",
      "Printing city #48 out of 603 -- saskylakh\n",
      "Printing city #49 out of 603 -- plettenberg bay\n",
      "Printing city #50 out of 603 -- airai\n",
      "Printing city #51 out of 603 -- mangrol\n",
      "Printing city #52 out of 603 -- sangueya\n",
      "Printing city #53 out of 603 -- bluff\n",
      "Printing city #54 out of 603 -- tasiilaq\n",
      "Printing city #55 out of 603 -- divnoye\n",
      "City #56 out of 603 missing 'coord'... skipping attawapiskat.\n",
      "Printing city #57 out of 603 -- bonthe\n",
      "Printing city #58 out of 603 -- tezu\n",
      "Printing city #59 out of 603 -- nhulunbuy\n",
      "Printing city #60 out of 603 -- mataura\n",
      "Printing city #61 out of 603 -- gastello\n",
      "Printing city #62 out of 603 -- new norfolk\n",
      "Printing city #63 out of 603 -- ostrovnoy\n",
      "Printing city #64 out of 603 -- butaritari\n",
      "Printing city #65 out of 603 -- nuuk\n",
      "Printing city #66 out of 603 -- bamiantong\n",
      "Printing city #67 out of 603 -- vostok\n",
      "Printing city #68 out of 603 -- lompoc\n",
      "Printing city #69 out of 603 -- nome\n",
      "Printing city #70 out of 603 -- avera\n",
      "Printing city #71 out of 603 -- muros\n",
      "Printing city #72 out of 603 -- klaksvik\n",
      "Printing city #73 out of 603 -- nanortalik\n",
      "City #74 out of 603 missing 'coord'... skipping mys shmidta.\n",
      "Printing city #75 out of 603 -- tigil\n",
      "Printing city #76 out of 603 -- vaini\n",
      "Printing city #77 out of 603 -- sahuaripa\n",
      "Printing city #78 out of 603 -- fortuna\n",
      "Printing city #79 out of 603 -- port alfred\n",
      "Printing city #80 out of 603 -- tuktoyaktuk\n",
      "Printing city #81 out of 603 -- east london\n",
      "Printing city #82 out of 603 -- yining\n",
      "Printing city #83 out of 603 -- acarau\n",
      "Printing city #84 out of 603 -- mbandaka\n",
      "Printing city #85 out of 603 -- venado tuerto\n",
      "Printing city #86 out of 603 -- pevek\n",
      "Printing city #87 out of 603 -- eureka\n",
      "City #88 out of 603 missing 'coord'... skipping maimon.\n",
      "Printing city #89 out of 603 -- ishinomaki\n",
      "Printing city #90 out of 603 -- barrow\n",
      "Printing city #91 out of 603 -- kavaratti\n",
      "Printing city #92 out of 603 -- hambantota\n",
      "City #93 out of 603 missing 'coord'... skipping belushya guba.\n",
      "Printing city #94 out of 603 -- port hardy\n",
      "Printing city #95 out of 603 -- longyearbyen\n",
      "Printing city #96 out of 603 -- port elizabeth\n",
      "Printing city #97 out of 603 -- bredasdorp\n",
      "Printing city #98 out of 603 -- laguna\n",
      "Printing city #99 out of 603 -- narsaq\n",
      "Printing city #100 out of 603 -- denpasar\n",
      "Printing city #101 out of 603 -- sao joao da barra\n",
      "Printing city #102 out of 603 -- nelson bay\n",
      "Printing city #103 out of 603 -- pimentel\n",
      "Printing city #104 out of 603 -- bethel\n",
      "Printing city #105 out of 603 -- hasaki\n",
      "Printing city #106 out of 603 -- watsa\n",
      "Printing city #107 out of 603 -- maridi\n"
     ]
    }
   ],
   "source": [
    " \n",
    "units = 'imperial'\n",
    "\n",
    "# Empty the lists\n",
    "city_list = []\n",
    "lats = []\n",
    "long = []\n",
    "temp = []\n",
    "wind = []\n",
    "humid = []\n",
    "cloud = []\n",
    "country = []\n",
    "pressure = []\n",
    "\n",
    "#Count to zero for displaying message\n",
    "count = 0\n",
    "\n",
    "for city in cities:\n",
    "    \n",
    "    count += 1\n",
    "    # Use a try/except function \n",
    "    try: \n",
    "        \n",
    "        query_url = f\"http://api.openweathermap.org/data/2.5/weather?appid={weather_api_key}&units={units}&q={city}\"\n",
    "        response = requests.get(query_url).json()\n",
    "        \n",
    "        #Append the list \n",
    "        lats.append(response['coord']['lat'])\n",
    "        long.append(response['coord']['lon'])\n",
    "        wind.append(response['wind']['speed'])\n",
    "        temp.append(response['main']['temp'])\n",
    "        humid.append(response['main']['humidity'])\n",
    "        cloud.append(response['clouds']['all'])\n",
    "        country.append(response['sys']['country'])\n",
    "        pressure.append(response['main']['pressure'])\n",
    "        \n",
    "        \n",
    "        city_list.append(city)\n",
    "        \n",
    "        \n",
    "        print(f\"Printing city #{count} out of {len(cities)} -- {city}\")\n",
    "\n",
    "    except Exception as e:\n",
    "        \n",
    "        print(f\"City #{count} out of {len(cities)} missing {e}... skipping {city}.\")\n",
    "        next\n",
    " \n",
    "    \n",
    "    #put in time limit to avoid hitting the rate limit \n",
    "    time.sleep(2)"
   ]
  },
  {
   "cell_type": "code",
   "execution_count": null,
   "metadata": {},
   "outputs": [],
   "source": [
    "counter"
   ]
  },
  {
   "cell_type": "code",
   "execution_count": null,
   "metadata": {},
   "outputs": [],
   "source": [
    "weather_df = pd.DataFrame()\n",
    "weather_df[\"cities\"] = citiesFound\n",
    "weather_df[\"latitude\"] = lats\n",
    "weather_df[\"longitude\"] = longs\n",
    "weather_df[\"temperature\"] = temps\n",
    "weather_df[\"humidity\"] = humids\n",
    "weather_df[\"pressure\"] = pressures\n",
    "weather_df[\"wind_speed\"] = winds\n",
    "weather_df[\"cloudiness\"] = clouds\n",
    "\n",
    "weather_df.head()"
   ]
  },
  {
   "cell_type": "code",
   "execution_count": null,
   "metadata": {},
   "outputs": [],
   "source": [
    "len(weather_df)"
   ]
  },
  {
   "cell_type": "code",
   "execution_count": null,
   "metadata": {},
   "outputs": [],
   "source": [
    "weather_df.describe()"
   ]
  },
  {
   "cell_type": "code",
   "execution_count": null,
   "metadata": {},
   "outputs": [],
   "source": [
    "# check the cities that have over 100% humidity\n",
    "mask = weather_df.humidity <= 100\n",
    "weather_sub = weather_df.loc[mask].reset_index(drop=True)\n",
    "\n",
    "weather_sub.head()"
   ]
  },
  {
   "cell_type": "code",
   "execution_count": null,
   "metadata": {},
   "outputs": [],
   "source": [
    "# Extract relevant fields from the data frame\n",
    "\n",
    "\n",
    "# Export the City_Data into a csv\n",
    "weather_sub.to_csv(\"weatherPyData.csv\", index=False)"
   ]
  },
  {
   "cell_type": "code",
   "execution_count": null,
   "metadata": {},
   "outputs": [],
   "source": [
    "#View the new exported csv and check the data\n",
    "\n",
    "new_df = pd.read_csv(\"weatherPyData.csv\")\n",
    "\n",
    "new_df.head()"
   ]
  },
  {
   "cell_type": "code",
   "execution_count": null,
   "metadata": {},
   "outputs": [],
   "source": [
    "# Scatter Plots (Lat v. Temp, Lat v. Humidity, Lat v. Cloudiness, Lat v. Wind Speed)\n",
    "# Add explanations under plots\n",
    "#Lat v. Temp\n",
    "plt.scatter(new_df.latitude, new_df.temperature, color=\"purple\", marker=\"*\")\n",
    "plt.xlabel(\"Latitude\")\n",
    "plt.ylabel(\"Temperature\")\n",
    "plt.title(\"Latitude vs Temperature\", fontsize=14, fontweight=\"bold\")\n",
    "plt.show()"
   ]
  },
  {
   "cell_type": "code",
   "execution_count": null,
   "metadata": {},
   "outputs": [],
   "source": [
    "#Lat v. Humidity\n",
    "plt.scatter(new_df.latitude, new_df.humidity, color=\"red\", marker=\"*\")\n",
    "plt.xlabel(\"Latitude\")\n",
    "plt.ylabel(\"Humidity\")\n",
    "plt.title(\"Latitude vs Humidity\", fontsize=14, fontweight=\"bold\")\n",
    "plt.show()"
   ]
  },
  {
   "cell_type": "code",
   "execution_count": null,
   "metadata": {},
   "outputs": [],
   "source": [
    "#Lat v. Cloudiness\n",
    "plt.scatter(new_df.latitude, new_df.cloudiness, color=\"blue\", marker=\"*\")\n",
    "plt.xlabel(\"Latitude\")\n",
    "plt.ylabel(\"Cloudiness\")\n",
    "plt.title(\"Latitude vs Cloudiness\", fontsize=14, fontweight=\"bold\")\n",
    "plt.show()"
   ]
  },
  {
   "cell_type": "code",
   "execution_count": null,
   "metadata": {},
   "outputs": [],
   "source": [
    "#Lat v. Wind Speed\n",
    "plt.scatter(new_df.latitude, new_df.wind_speed, color=\"lightblue\", marker=\"*\")\n",
    "plt.xlabel(\"Latitude\")\n",
    "plt.ylabel(\"Wind Speed\")\n",
    "plt.title(\"Latitude vs Wind Speed\", fontsize=14, fontweight=\"bold\")\n",
    "plt.show()"
   ]
  },
  {
   "cell_type": "code",
   "execution_count": null,
   "metadata": {},
   "outputs": [],
   "source": [
    "#Linear Regression for each hemisphere North, South\n",
    "# north Hemi\n",
    "northernHemi = new_df.latitude >= 0\n",
    "north = df.loc[northernHemi].reset_index(drop=True)\n",
    "\n",
    "north.head()\n"
   ]
  },
  {
   "cell_type": "code",
   "execution_count": null,
   "metadata": {},
   "outputs": [],
   "source": [
    "# south Hemi\n",
    "southernHemi = new_df.latitude < 0\n",
    "south = df.loc[southernHemi].reset_index(drop=True)\n",
    "\n",
    "south.head()"
   ]
  },
  {
   "cell_type": "code",
   "execution_count": null,
   "metadata": {},
   "outputs": [],
   "source": [
    "# Latitude vs Temperature (North) w/ r squared \n",
    "x_values = north['latitude']\n",
    "y_values = north['temperature']\n",
    "(slope, intercept, rvalue, pvalue, stderr) = linregress(x_values, y_values)\n",
    "regress_values = x_values * slope + intercept\n",
    "line_eq = \"y = \" + str(round(slope,2)) + \"x + \" + str(round(intercept,2))\n",
    "plt.scatter(x_values,y_values, color=\"purple\")\n",
    "plt.plot(x_values,regress_values,\"r-\")\n",
    "plt.annotate(line_eq,(6,10),fontsize=15,color=\"red\")\n",
    "plt.xlabel('Latitude')\n",
    "plt.ylabel('Temperature')\n",
    "plt.title(\"Latitude vs Temperature in the North\")\n",
    "print(f\"The r-squared is: {rvalue**2}\")\n",
    "print(f\"The p-value is: {pvalue}\")\n",
    "plt.show()"
   ]
  },
  {
   "cell_type": "code",
   "execution_count": null,
   "metadata": {},
   "outputs": [],
   "source": [
    "# Latitude vs Temperature (South) w/ r squared \n",
    "x_values = south['latitude']\n",
    "y_values = south['temperature']\n",
    "(slope, intercept, rvalue, pvalue, stderr) = linregress(x_values, y_values)\n",
    "regress_values = x_values * slope + intercept\n",
    "line_eq = \"y = \" + str(round(slope,2)) + \"x + \" + str(round(intercept,2))\n",
    "plt.scatter(x_values,y_values, color=\"purple\")\n",
    "plt.plot(x_values,regress_values,\"r-\")\n",
    "plt.annotate(line_eq,(6,10),fontsize=15,color=\"red\")\n",
    "plt.xlabel('Latitude')\n",
    "plt.ylabel('Temperature')\n",
    "plt.title(\"Latitude vs Temperature in the South\")\n",
    "print(f\"The r-squared is: {rvalue**2}\")\n",
    "print(f\"The p-value is: {pvalue}\")\n",
    "plt.show()"
   ]
  },
  {
   "cell_type": "code",
   "execution_count": null,
   "metadata": {},
   "outputs": [],
   "source": [
    "# Latitude vs. Humidity (North) w/ r squared\n",
    "x_values = north['latitude']\n",
    "y_values = north['humidity']\n",
    "(slope, intercept, rvalue, pvalue, stderr) = linregress(x_values, y_values)\n",
    "regress_values = x_values * slope + intercept\n",
    "line_eq = \"y = \" + str(round(slope,2)) + \"x + \" + str(round(intercept,2))\n",
    "plt.scatter(x_values,y_values)\n",
    "plt.plot(x_values,regress_values,\"r-\")\n",
    "plt.annotate(line_eq,(6,10),fontsize=15,color=\"red\")\n",
    "plt.xlabel('Latitude')\n",
    "plt.ylabel('Humidity')\n",
    "plt.title(\"Latitude vs Humidity in the North\")\n",
    "print(f\"The r-squared is: {rvalue**2}\")\n",
    "print(f\"The p-value is: {pvalue}\")\n",
    "plt.show()"
   ]
  },
  {
   "cell_type": "code",
   "execution_count": null,
   "metadata": {},
   "outputs": [],
   "source": [
    "# Latitude vs. Humidity (South) w/ r squared\n",
    "x_values = south['latitude']\n",
    "y_values = south['humidity']\n",
    "(slope, intercept, rvalue, pvalue, stderr) = linregress(x_values, y_values)\n",
    "regress_values = x_values * slope + intercept\n",
    "line_eq = \"y = \" + str(round(slope,2)) + \"x + \" + str(round(intercept,2))\n",
    "plt.scatter(x_values,y_values)\n",
    "plt.plot(x_values,regress_values,\"r-\")\n",
    "plt.annotate(line_eq,(6,10),fontsize=15,color=\"red\")\n",
    "plt.xlabel('Latitude')\n",
    "plt.ylabel('Humidity')\n",
    "plt.title(\"Latitude vs Humidity in the South\")\n",
    "print(f\"The r-squared is: {rvalue**2}\")\n",
    "print(f\"The p-value is: {pvalue}\")\n",
    "plt.show()"
   ]
  },
  {
   "cell_type": "code",
   "execution_count": null,
   "metadata": {},
   "outputs": [],
   "source": [
    "# Latitude vs Cloudiness (North) w/ r squared \n",
    "x_values = north['latitude']\n",
    "y_values = north['cloudiness']\n",
    "(slope, intercept, rvalue, pvalue, stderr) = linregress(x_values, y_values)\n",
    "regress_values = x_values * slope + intercept\n",
    "line_eq = \"y = \" + str(round(slope,2)) + \"x + \" + str(round(intercept,2))\n",
    "plt.scatter(x_values,y_values, color=\"blue\")\n",
    "plt.plot(x_values,regress_values,\"r-\")\n",
    "plt.annotate(line_eq,(6,10),fontsize=15,color=\"red\")\n",
    "plt.xlabel('Latitude')\n",
    "plt.ylabel('Cloudiness')\n",
    "plt.title(\"Latitude vs Cloudiness in the North\")\n",
    "print(f\"The r-squared is: {rvalue**2}\")\n",
    "print(f\"The p-value is: {pvalue}\")\n",
    "plt.show()"
   ]
  },
  {
   "cell_type": "code",
   "execution_count": null,
   "metadata": {},
   "outputs": [],
   "source": [
    "# Latitude vs Cloudiness (South) w/ r squared \n",
    "x_values = south['latitude']\n",
    "y_values = south['cloudiness']\n",
    "(slope, intercept, rvalue, pvalue, stderr) = linregress(x_values, y_values)\n",
    "regress_values = x_values * slope + intercept\n",
    "line_eq = \"y = \" + str(round(slope,2)) + \"x + \" + str(round(intercept,2))\n",
    "plt.scatter(x_values,y_values, color=\"blue\")\n",
    "plt.plot(x_values,regress_values,\"r-\")\n",
    "plt.annotate(line_eq,(6,10),fontsize=15,color=\"red\")\n",
    "plt.xlabel('Latitude')\n",
    "plt.ylabel('Cloudiness')\n",
    "plt.title(\"Latitude vs Cloudiness in the South\")\n",
    "print(f\"The r-squared is: {rvalue**2}\")\n",
    "print(f\"The p-value is: {pvalue}\")\n",
    "plt.show()"
   ]
  },
  {
   "cell_type": "code",
   "execution_count": null,
   "metadata": {},
   "outputs": [],
   "source": [
    "# Latitude vs Wind Speed (North) w/ r squared \n",
    "x_values = north['latitude']\n",
    "y_values = north['wind_speed']\n",
    "(slope, intercept, rvalue, pvalue, stderr) = linregress(x_values, y_values)\n",
    "regress_values = x_values * slope + intercept\n",
    "line_eq = \"y = \" + str(round(slope,2)) + \"x + \" + str(round(intercept,2))\n",
    "plt.scatter(x_values,y_values, color=\"lightblue\")\n",
    "plt.plot(x_values,regress_values,\"r-\")\n",
    "plt.annotate(line_eq,(6,10),fontsize=15,color=\"red\")\n",
    "plt.xlabel('Latitude')\n",
    "plt.ylabel('Wind Speed')\n",
    "plt.title(\"Latitude vs Wind Speed in the North\")\n",
    "print(f\"The r-squared is: {rvalue**2}\")\n",
    "print(f\"The p-value is: {pvalue}\")\n",
    "plt.show()"
   ]
  },
  {
   "cell_type": "code",
   "execution_count": null,
   "metadata": {},
   "outputs": [],
   "source": [
    "# Latitude vs Wind Speed (south) w/ r squared\n",
    "x_values = south['latitude']\n",
    "y_values = south['wind_speed']\n",
    "(slope, intercept, rvalue, pvalue, stderr) = linregress(x_values, y_values)\n",
    "regress_values = x_values * slope + intercept\n",
    "line_eq = \"y = \" + str(round(slope,2)) + \"x + \" + str(round(intercept,2))\n",
    "plt.scatter(x_values,y_values, color=\"lightblue\")\n",
    "plt.plot(x_values,regress_values,\"r-\")\n",
    "plt.annotate(line_eq,(6,10),fontsize=15,color=\"red\")\n",
    "plt.xlabel('Latitude')\n",
    "plt.ylabel('Wind Speed')\n",
    "plt.title(\"Latitude vs Wind Speed in the South\")\n",
    "print(f\"The r-squared is: {rvalue**2}\")\n",
    "print(f\"The p-value is: {pvalue}\")\n",
    "plt.show()"
   ]
  },
  {
   "cell_type": "code",
   "execution_count": null,
   "metadata": {},
   "outputs": [],
   "source": []
  }
 ],
 "metadata": {
  "kernelspec": {
   "display_name": "Python 3",
   "language": "python",
   "name": "python3"
  },
  "language_info": {
   "codemirror_mode": {
    "name": "ipython",
    "version": 3
   },
   "file_extension": ".py",
   "mimetype": "text/x-python",
   "name": "python",
   "nbconvert_exporter": "python",
   "pygments_lexer": "ipython3",
   "version": "3.7.6"
  }
 },
 "nbformat": 4,
 "nbformat_minor": 4
}
